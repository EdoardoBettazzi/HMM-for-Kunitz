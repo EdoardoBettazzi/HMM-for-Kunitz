{
  "nbformat": 4,
  "nbformat_minor": 0,
  "metadata": {
    "colab": {
      "name": "Kunitz_HMM.ipynb",
      "provenance": [],
      "collapsed_sections": [
        "6eW3kW3c9U8y",
        "GC2oGC3YCFiN",
        "8y3AhEIC-Y67",
        "sTLs85hiNV_b",
        "LIlDHwYkgy4D",
        "pW4ubG9_Regt",
        "gGeMnoIfuLYG"
      ]
    },
    "kernelspec": {
      "name": "python3",
      "display_name": "Python 3"
    },
    "language_info": {
      "name": "python"
    }
  },
  "cells": [
    {
      "cell_type": "markdown",
      "source": [
        " # **Dataset curation**"
      ],
      "metadata": {
        "id": "9lf2a4ga60Tf"
      }
    },
    {
      "cell_type": "markdown",
      "source": [
        "## Training set"
      ],
      "metadata": {
        "id": "klzL2e4t643-"
      }
    },
    {
      "cell_type": "markdown",
      "source": [
        "#### From PDB manually download IDs of selected structures, according to the following  advanced search criteria:\n",
        "- Kunitz domain annotation: PFAM code PF00014\n",
        "- Resolution method: X-RAY diffraction\n",
        "- PDB structure resolution: =< 3\n",
        "- Absence of mutations in the polymer entity\n",
        "\n",
        "https://www.rcsb.org/search/advanced"
      ],
      "metadata": {
        "id": "LUTlZ2U7BGyy"
      }
    },
    {
      "cell_type": "markdown",
      "source": [
        "Format IDs file to show a single ID for each row "
      ],
      "metadata": {
        "id": "G30Ehk4NLB-z"
      }
    },
    {
      "cell_type": "code",
      "source": [
        "# Format to have an ID for each line \n",
        "!cat PDB_IDs.txt |tr ',' '\\n' > PDB_IDs_rows.txt\n",
        "\n",
        "\n",
        "# Check output\n",
        "!head -n 5 PDB_IDs_rows.txt"
      ],
      "metadata": {
        "id": "in0v_orq68fp"
      },
      "execution_count": null,
      "outputs": []
    },
    {
      "cell_type": "markdown",
      "source": [
        "#### From PDBefold, manually download a summary of pairwise structural alignments of the seed structure with PDB code: 3TGI, chain I, against the whole PDB database.\n",
        "\n",
        "(3TGI: WILD-TYPE RAT ANIONIC TRYPSIN COMPLEXED WITH BOVINE PANCREATIC TRYPSIN INHIBITOR)\n",
        "\n",
        "https://www.ebi.ac.uk/msd-srv/ssm/\n",
        "\n",
        "Credits: E. Krissinel and K. Henrick (2004). Secondary-structure matching (SSM), a new tool for fast protein structure alignment in three dimensions. Acta Cryst. D60, 2256---2268"
      ],
      "metadata": {
        "id": "f48K4e5jFwY3"
      }
    },
    {
      "cell_type": "markdown",
      "source": [
        "##### PDB-efold summary filtering for Z-score > 3 and RSMD < 1.5, and formatting to show only ID:chain"
      ],
      "metadata": {
        "id": "B0EsZm0FK1IB"
      }
    },
    {
      "cell_type": "code",
      "source": [
        "# Filter and format\n",
        "!awk '{if ($4>=4 && $5<=1.5) print toupper($(NF))}' efold_IDs.txt > efold_IDs_chains.txt\n",
        "\n",
        "# Check output \n",
        "!head -n 5 efold_IDs_chains.txt\n",
        "# Compare number of entries\n",
        "!wc efold_IDs.txt\n",
        "!wc efold_IDs_chains.txt\n"
      ],
      "metadata": {
        "colab": {
          "base_uri": "https://localhost:8080/"
        },
        "id": "T0e1eRexDbuE",
        "outputId": "52383423-2641-4e28-be09-d3e6d79db63b"
      },
      "execution_count": null,
      "outputs": [
        {
          "output_type": "stream",
          "name": "stdout",
          "text": [
            "3TGI:I\n",
            "1F7Z:I\n",
            "1FY8:I\n",
            "1YKT:B\n",
            "3TGK:I\n",
            "  657 11763 90840 /content/drive/MyDrive/Bioinformatics/Lab_bioinfomatics_1_2/efold_IDs.txt\n",
            " 336  336 2352 /content/drive/MyDrive/Bioinformatics/Lab_bioinfomatics_1_2/efold_IDs_chains.txt\n"
          ]
        }
      ]
    },
    {
      "cell_type": "markdown",
      "source": [
        "#### Merging datasets from different databases"
      ],
      "metadata": {
        "id": "mIc4IGECM_Pf"
      }
    },
    {
      "cell_type": "code",
      "source": [
        "# Format eFold .txt file with ID:chain rows, to show only IDs\n",
        "!awk '{print substr($0,1,length($0)-2)}' efold_IDs_chains.txt > efold_IDs_only.txt\n",
        "\n",
        "# Check output \n",
        "!head -n 5 efold_IDs_only.txt"
      ],
      "metadata": {
        "colab": {
          "base_uri": "https://localhost:8080/"
        },
        "id": "g3tVk3J6NK3-",
        "outputId": "2b42d7cb-0264-4b97-dd50-41ed1aacd0bc"
      },
      "execution_count": null,
      "outputs": [
        {
          "output_type": "stream",
          "name": "stdout",
          "text": [
            "3TGI\n",
            "1F7Z\n",
            "1FY8\n",
            "1YKT\n",
            "3TGK\n"
          ]
        }
      ]
    },
    {
      "cell_type": "code",
      "source": [
        "# Merge PDB IDs and PDBeFold IDs in a single file\n",
        "\n",
        "!comm -12 <(sort efold_IDs_only.txt) <(sort PDB_IDs_rows.txt) > merged_IDs.txt\n",
        "\n",
        "!wc merged_IDs.txt"
      ],
      "metadata": {
        "colab": {
          "base_uri": "https://localhost:8080/"
        },
        "id": "9GIUIZ17OboD",
        "outputId": "31417788-d437-45bd-841a-23e89b1ac384"
      },
      "execution_count": null,
      "outputs": [
        {
          "output_type": "stream",
          "name": "stdout",
          "text": [
            "119 119 595 /content/drive/MyDrive/Bioinformatics/Lab_bioinfomatics_1_2/merged_IDs.txt\n"
          ]
        }
      ]
    },
    {
      "cell_type": "code",
      "source": [
        "# Generate a merged file with ID:chain rows from the merged IDs \n",
        "# and PDB-eFold file IDs:chains \n",
        "\n",
        "# Remove the colon to join\n",
        "!tr ':' ' ' <efold_IDs_chains.txt > efold_IDs_chains_nocolon.txt\n",
        "\n",
        "# Merge\n",
        "!join -j 1 <(sort merged_IDs.txt) <(sort efold_IDs_chains_nocolon.txt) > merged_IDs_chains.txt\n",
        "\n",
        "# Check output\n",
        "!cat merged_IDs_chains.txt |sort|uniq|wc"
      ],
      "metadata": {
        "colab": {
          "base_uri": "https://localhost:8080/"
        },
        "id": "6dK1MV0FWm7T",
        "outputId": "ff6d1484-b52b-43df-f897-5f6a0f0f2ba1"
      },
      "execution_count": null,
      "outputs": [
        {
          "output_type": "stream",
          "name": "stdout",
          "text": [
            "    205     410    1435\n"
          ]
        }
      ]
    },
    {
      "cell_type": "markdown",
      "source": [
        "#### Retrieve fasta sequences according to the IDs and chains from the merged list"
      ],
      "metadata": {
        "id": "q07p1detT8Lg"
      }
    },
    {
      "cell_type": "code",
      "source": [
        "# Retrieve sequences from PDB in fasta format\n",
        "!wget https://ftp.rcsb.org/pub/pdb/derived_data/pdb_seqres.txt > pdb.seqres.txt"
      ],
      "metadata": {
        "colab": {
          "base_uri": "https://localhost:8080/"
        },
        "id": "K-iF_JpQUhSp",
        "outputId": "f4cfd88d-2207-4baf-ee56-78a5a784d470"
      },
      "execution_count": null,
      "outputs": [
        {
          "output_type": "stream",
          "name": "stdout",
          "text": [
            "--2022-05-08 16:26:00--  https://ftp.rcsb.org/pub/pdb/derived_data/pdb_seqres.txt\n",
            "Resolving ftp.rcsb.org (ftp.rcsb.org)... 132.249.210.142\n",
            "Connecting to ftp.rcsb.org (ftp.rcsb.org)|132.249.210.142|:443... connected.\n",
            "HTTP request sent, awaiting response... 200 OK\n",
            "Length: 232080375 (221M) [text/plain]\n",
            "Saving to: ‘pdb_seqres.txt.1’\n",
            "\n",
            "pdb_seqres.txt.1    100%[===================>] 221.33M  18.9MB/s    in 13s     \n",
            "\n",
            "2022-05-08 16:26:14 (17.3 MB/s) - ‘pdb_seqres.txt.1’ saved [232080375/232080375]\n",
            "\n"
          ]
        }
      ]
    },
    {
      "cell_type": "code",
      "source": [
        "# Formatting for the next command\n",
        "!awk '{print tolower($1)\"_\"$2}' merged_IDs_chains.txt > final_merged.txt\n",
        "\n",
        "# Filtering \n",
        "! for i in `cat final_merged.txt` ; do grep -A 1 \">\"$i pdb_seqres.txt ; done > ss.fasta"
      ],
      "metadata": {
        "id": "zLfdqXOocqPJ"
      },
      "execution_count": null,
      "outputs": []
    },
    {
      "cell_type": "markdown",
      "source": [
        "#### Reduce redundancy via cd-hit\n",
        "\n",
        "Credits:\n",
        "Weizhong Li and Adam Godzik. Cd-hit: a fast program for clustering and comparing large sets of protein or nucleotide sequences. Bioinformatics, 2006(22): 1658-1659. "
      ],
      "metadata": {
        "id": "RRgAWReYnSg5"
      }
    },
    {
      "cell_type": "code",
      "source": [
        "# Install cd-hit\n",
        "!apt-get install cd-hit"
      ],
      "metadata": {
        "colab": {
          "base_uri": "https://localhost:8080/"
        },
        "id": "G87e-vOznrG6",
        "outputId": "4d5ea737-1d45-4ba4-b156-a49f76af4878"
      },
      "execution_count": null,
      "outputs": [
        {
          "output_type": "stream",
          "name": "stdout",
          "text": [
            "Reading package lists... Done\n",
            "Building dependency tree       \n",
            "Reading state information... Done\n",
            "The following packages were automatically installed and are no longer required:\n",
            "  libnvidia-common-460 nsight-compute-2020.2.0\n",
            "Use 'apt autoremove' to remove them.\n",
            "The following NEW packages will be installed:\n",
            "  cd-hit\n",
            "0 upgraded, 1 newly installed, 0 to remove and 42 not upgraded.\n",
            "Need to get 516 kB of archives.\n",
            "After this operation, 1,409 kB of additional disk space will be used.\n",
            "Get:1 http://archive.ubuntu.com/ubuntu bionic/universe amd64 cd-hit amd64 4.6.8-1 [516 kB]\n",
            "Fetched 516 kB in 2s (274 kB/s)\n",
            "Selecting previously unselected package cd-hit.\n",
            "(Reading database ... 155254 files and directories currently installed.)\n",
            "Preparing to unpack .../cd-hit_4.6.8-1_amd64.deb ...\n",
            "Unpacking cd-hit (4.6.8-1) ...\n",
            "Setting up cd-hit (4.6.8-1) ...\n",
            "Processing triggers for man-db (2.8.3-2ubuntu0.1) ...\n"
          ]
        }
      ]
    },
    {
      "cell_type": "code",
      "source": [
        "# Run cd-hit at 0.95%\n",
        "!cd-hit -i ss.fasta -o ss_95.fasta -c 0.95\n",
        "\n",
        "# Check output\n",
        "!cat ss_95.fasta\n",
        "!wc ss_95.fasta"
      ],
      "metadata": {
        "colab": {
          "base_uri": "https://localhost:8080/"
        },
        "id": "MAYSkG7ooQl4",
        "outputId": "5c8de37a-7e5e-4c63-f1db-2c98105f47c4"
      },
      "execution_count": null,
      "outputs": [
        {
          "output_type": "stream",
          "name": "stdout",
          "text": [
            "================================================================\n",
            "Program: CD-HIT, V4.7 (+OpenMP), Jul 01 2017, 08:43:07\n",
            "Command: cd-hit -i\n",
            "         /content/drive/MyDrive/Bioinformatics/Lab_bioinfomatics_1_2/ss.fasta\n",
            "         -o\n",
            "         /content/drive/MyDrive/Bioinformatics/Lab_bioinfomatics_1_2/ss_95.fasta\n",
            "         -c 0.95 -n 5\n",
            "\n",
            "Started: Sun May  8 17:11:04 2022\n",
            "================================================================\n",
            "                            Output                              \n",
            "----------------------------------------------------------------\n",
            "total seq: 205\n",
            "longest and shortest : 100 and 43\n",
            "Total letters: 12214\n",
            "Sequences have been sorted\n",
            "\n",
            "Approximated minimal memory consumption:\n",
            "Sequence        : 0M\n",
            "Buffer          : 1 X 10M = 10M\n",
            "Table           : 1 X 65M = 65M\n",
            "Miscellaneous   : 0M\n",
            "Total           : 75M\n",
            "\n",
            "Table limit with the given memory limit:\n",
            "Max number of representatives: 4000000\n",
            "Max number of word counting entries: 90512306\n",
            "\n",
            "\rcomparing sequences from          0  to        205\n",
            "\n",
            "      205  finished         21  clusters\n",
            "\n",
            "Apprixmated maximum memory consumption: 75M\n",
            "writing new database\n",
            "writing clustering information\n",
            "program completed !\n",
            "\n",
            "Total CPU time 0.08\n"
          ]
        }
      ]
    },
    {
      "cell_type": "markdown",
      "source": [
        "#### Multiple structural alignment with PDBeFold"
      ],
      "metadata": {
        "id": "R9xiA-FixRQV"
      }
    },
    {
      "cell_type": "markdown",
      "source": [
        "Generate ID:chain txt file for aligning with the MSA tool from PDBeFold. Correct for sequence length."
      ],
      "metadata": {
        "id": "ZyPywTF4ktwo"
      }
    },
    {
      "cell_type": "code",
      "source": [
        "# Generate ID:chain txt file\n",
        "! grep \">\" ss_95.fasta | cut -d \" \" -f 1 | tr -d \">\" | tr \"_\" \":\" > ID_for_MSA.txt\n",
        "\n",
        "# Substitute sequence with length > 90 with seed sequence 3TGI\n",
        "! sed 's/4bnr:I/3tgi:I/g' ID_for_MSA.txt > final_MSA_ID.txt\n",
        "\n",
        "# Check output length\n",
        "!wc ID_for_MSA.txt\n",
        "!wc final_MSA_ID.txt\n",
        "\n",
        "# Check if the seed is in the output file\n",
        "!grep '3tgi' final_MSA_ID.txt "
      ],
      "metadata": {
        "colab": {
          "base_uri": "https://localhost:8080/"
        },
        "id": "ZgW4tJidw8ir",
        "outputId": "3fb7dbee-7e4f-434e-a184-7fbbcc7d2369"
      },
      "execution_count": null,
      "outputs": [
        {
          "output_type": "stream",
          "name": "stdout",
          "text": [
            "1brb:I\n",
            "1dtx:A\n",
            "1fak:I\n",
            "1knt:A\n",
            "1t8l:B\n",
            "1yc0:I\n",
            "1zr0:B\n",
            "3byb:A\n",
            "3m7q:B\n",
            "3wny:A\n",
            "4bnr:I\n",
            "4dtg:K\n",
            "4ntx:B\n",
            "4u30:W\n",
            "4u32:X\n",
            "5nmv:K\n",
            "5nx1:C\n",
            "5yw1:I\n",
            "6gfi:C\n",
            "6q61:A\n",
            "6yhy:A\n"
          ]
        }
      ]
    },
    {
      "cell_type": "markdown",
      "source": [
        "#### The txt file containing the identifiers is now submitted manually to the PDBeFold tool for multiple structural alignment, to retrieve the set of sequences that will be used for training the model."
      ],
      "metadata": {
        "id": "6eW3kW3c9U8y"
      }
    },
    {
      "cell_type": "markdown",
      "source": [
        "## Validation set"
      ],
      "metadata": {
        "id": "jYVwUvg6_Ovz"
      }
    },
    {
      "cell_type": "markdown",
      "source": [
        "#### From Uniprot/Swissprot manually download sequences of positive hits, according to the following  advanced search criteria:\n",
        "- Kunitz domain annotation: PFAM code PF00014\n",
        "- Reviewed entries\n",
        "- Not PDB (to avoid overlapping with the training set)\n",
        "\n"
      ],
      "metadata": {
        "id": "5_JPiszC_YtA"
      }
    },
    {
      "cell_type": "code",
      "source": [
        "# Check positives\n",
        "\n",
        "!grep '>' kunitz_positives.fasta |wc"
      ],
      "metadata": {
        "colab": {
          "base_uri": "https://localhost:8080/"
        },
        "id": "_CMEzKcTCIte",
        "outputId": "5d7e6335-964b-465c-b452-1de69041999f"
      },
      "execution_count": null,
      "outputs": [
        {
          "output_type": "stream",
          "name": "stdout",
          "text": [
            "    336    3408   35234\n"
          ]
        }
      ]
    },
    {
      "cell_type": "markdown",
      "source": [
        "#### From Uniprot/Swissprot manually download sequences of negative hits, according to the following  advanced search criteria:\n",
        "- Kunitz domain annotation: PFAM code PF00014\n",
        "- Sequence length: 40 to 10000 res\n",
        "- Reviewed entries"
      ],
      "metadata": {
        "id": "GC2oGC3YCFiN"
      }
    },
    {
      "cell_type": "code",
      "source": [
        "# Check negatives\n",
        "\n",
        "!grep '>' kunitz_negatives.fasta |wc"
      ],
      "metadata": {
        "colab": {
          "base_uri": "https://localhost:8080/"
        },
        "id": "RR71Pfr8EMTw",
        "outputId": "4ba51f97-cd43-4ff5-fcb7-746c99fc4466"
      },
      "execution_count": null,
      "outputs": [
        {
          "output_type": "stream",
          "name": "stdout",
          "text": [
            " 557267 8145603 72209028\n"
          ]
        }
      ]
    },
    {
      "cell_type": "markdown",
      "source": [
        "#### Split both sets for cross-validation procedure\n",
        "\n"
      ],
      "metadata": {
        "id": "ieLm0Cl2AL1O"
      }
    },
    {
      "cell_type": "code",
      "source": [
        "# Collect positive and negative hits IDs from .fasta files\n",
        "!grep \">\" kunitz_positives.fasta | cut -d \"|\" -f 2 > kunitz_positive_ID.txt\n",
        "!grep \">\" kunitz_negatives.fasta | cut -d \"|\" -f 2 > kunitz_negative_ID.txt\n",
        "\n",
        "# Shuffle the sets\n",
        "!sort -R kunitz_positive_ID.txt > shuffle_positive_ID.txt\n",
        "!sort -R kunitz_negative_ID.txt > shuffle_negative_ID.txt\n"
      ],
      "metadata": {
        "id": "fdOteDj9AsJk"
      },
      "execution_count": null,
      "outputs": []
    },
    {
      "cell_type": "code",
      "source": [
        "# Split the sets\n",
        "\n",
        "# Positive\n",
        "!head -n 168  shuffle_positive_ID.txt > positive_set1.txt \n",
        "!tail -n 168  shuffle_positive_ID.txt > positive_set2.txt\n",
        "\n",
        "# Negative\n",
        "!head -n 278633  shuffle_negative_ID.txt >  negative_set1.txt \n",
        "!tail -n 278634  shuffle_negative_ID.txt >  negative_set2.txt\n",
        "\n",
        "# Check for overlapping elements\n",
        "!comm -12 <(sort  positive_set1.txt) <(sort  positive_set2.txt) |wc\n",
        "!comm -12 <(sort  negative_set1.txt) <(sort  negative_set2.txt) |wc"
      ],
      "metadata": {
        "id": "pYMxTx43CZ_E"
      },
      "execution_count": null,
      "outputs": []
    },
    {
      "cell_type": "code",
      "source": [
        "# Extract sequences from validation set fasta file, \n",
        "# according to the shuffled and split sets of identifiers\n",
        "\n",
        "# select_fasta.py is found in the customized_scripts folder of the repository\n",
        "\n",
        "# Positive set 1\n",
        "!python select_fasta.py positive_set1.txt kunitz_positives.fasta > positive_set1.fasta\n",
        "\n",
        "# Positive set 2\n",
        "!python select_fasta.py positive_set2.txt kunitz_positives.fasta > positive_set2.fasta\n",
        "\n",
        "# Negative set 1\n",
        "!python select_fasta.py negative_set1.txt kunitz_negatives.fasta > negative_set1.fasta\n",
        "\n",
        "# Negative set 2\n",
        "!python select_fasta.py negative_set2.txt kunitz_negatives.fasta > negative_set2.fasta"
      ],
      "metadata": {
        "id": "Br9ljOuzoW_u"
      },
      "execution_count": null,
      "outputs": []
    },
    {
      "cell_type": "code",
      "source": [
        "# Check output\n",
        "!wc positive_set1.txt\n",
        "!wc positive_set1.fasta"
      ],
      "metadata": {
        "id": "iQH0MsWpsx8d"
      },
      "execution_count": null,
      "outputs": []
    },
    {
      "cell_type": "markdown",
      "source": [
        "# **HMM model construction**"
      ],
      "metadata": {
        "id": "8y3AhEIC-Y67"
      }
    },
    {
      "cell_type": "code",
      "source": [
        "# Install HMMER\n",
        "!apt-get install hmmer"
      ],
      "metadata": {
        "colab": {
          "base_uri": "https://localhost:8080/"
        },
        "id": "HmxjzZYt96i3",
        "outputId": "3a912f0e-4e87-4c56-ba85-a8c1177fc613"
      },
      "execution_count": null,
      "outputs": [
        {
          "output_type": "stream",
          "name": "stdout",
          "text": [
            "Reading package lists... Done\n",
            "Building dependency tree       \n",
            "Reading state information... Done\n",
            "The following packages were automatically installed and are no longer required:\n",
            "  libnvidia-common-460 nsight-compute-2020.2.0\n",
            "Use 'apt autoremove' to remove them.\n",
            "The following additional packages will be installed:\n",
            "  libdivsufsort3\n",
            "Suggested packages:\n",
            "  hmmer-doc\n",
            "The following NEW packages will be installed:\n",
            "  hmmer libdivsufsort3\n",
            "0 upgraded, 2 newly installed, 0 to remove and 42 not upgraded.\n",
            "Need to get 1,164 kB of archives.\n",
            "After this operation, 11.9 MB of additional disk space will be used.\n",
            "Get:1 http://archive.ubuntu.com/ubuntu bionic/universe amd64 libdivsufsort3 amd64 2.0.1-3 [44.4 kB]\n",
            "Get:2 http://archive.ubuntu.com/ubuntu bionic/universe amd64 hmmer amd64 3.1b2+dfsg-5ubuntu1 [1,119 kB]\n",
            "Fetched 1,164 kB in 1s (1,402 kB/s)\n",
            "Selecting previously unselected package libdivsufsort3:amd64.\n",
            "(Reading database ... 155203 files and directories currently installed.)\n",
            "Preparing to unpack .../libdivsufsort3_2.0.1-3_amd64.deb ...\n",
            "Unpacking libdivsufsort3:amd64 (2.0.1-3) ...\n",
            "Selecting previously unselected package hmmer.\n",
            "Preparing to unpack .../hmmer_3.1b2+dfsg-5ubuntu1_amd64.deb ...\n",
            "Unpacking hmmer (3.1b2+dfsg-5ubuntu1) ...\n",
            "Setting up libdivsufsort3:amd64 (2.0.1-3) ...\n",
            "Setting up hmmer (3.1b2+dfsg-5ubuntu1) ...\n",
            "Processing triggers for man-db (2.8.3-2ubuntu0.1) ...\n",
            "Processing triggers for libc-bin (2.27-3ubuntu1.3) ...\n",
            "/sbin/ldconfig.real: /usr/local/lib/python3.7/dist-packages/ideep4py/lib/libmkldnn.so.0 is not a symbolic link\n",
            "\n"
          ]
        }
      ]
    },
    {
      "cell_type": "code",
      "source": [
        "# Build and train the model\n",
        "!hmmbuild kunitz.hmm kunitz_MSA.txt"
      ],
      "metadata": {
        "colab": {
          "base_uri": "https://localhost:8080/"
        },
        "id": "Ci0WUutk-RXA",
        "outputId": "b843fe1d-54ea-46d2-cc7b-ecb7a94024e2"
      },
      "execution_count": null,
      "outputs": [
        {
          "output_type": "stream",
          "name": "stdout",
          "text": [
            "# hmmbuild :: profile HMM construction from multiple sequence alignments\n",
            "# HMMER 3.1b2 (February 2015); http://hmmer.org/\n",
            "# Copyright (C) 2015 Howard Hughes Medical Institute.\n",
            "# Freely distributed under the GNU General Public License (GPLv3).\n",
            "# - - - - - - - - - - - - - - - - - - - - - - - - - - - - - - - - - - - -\n",
            "# input alignment file:             kunitz_MSA.txt\n",
            "# output HMM file:                  kunitz.hmm\n",
            "# - - - - - - - - - - - - - - - - - - - - - - - - - - - - - - - - - - - -\n",
            "\n",
            "# idx name                  nseq  alen  mlen eff_nseq re/pos description\n",
            "#---- -------------------- ----- ----- ----- -------- ------ -----------\n",
            "1     kunitz_MSA              21    69    58     2.36  0.961 \n",
            "\n",
            "# CPU time: 0.06u 0.00s 00:00:00.06 Elapsed: 00:00:00.41\n"
          ]
        }
      ]
    },
    {
      "cell_type": "code",
      "source": [
        "# Check model\n",
        "!cat kunitz.hmm"
      ],
      "metadata": {
        "id": "L0vzkcGw-y-S"
      },
      "execution_count": null,
      "outputs": []
    },
    {
      "cell_type": "markdown",
      "source": [
        "# **Model optimization and validation**"
      ],
      "metadata": {
        "id": "1yAgzJ06FIIz"
      }
    },
    {
      "cell_type": "markdown",
      "source": [
        "#### Predict with hmmsearch\n",
        "The command is run with the following parameters:\n",
        "\n",
        "*   --max: turns off all the heuristics for cutting off distantly related proteins\n",
        "*   --noali: exclude from the output the alignemnts \n",
        "*   --tblout: returns the output in tabular form\n",
        "*   -Z: for normalizing the e-value output \n",
        "*   --domZ: for normalizing the domain e-value output\n"
      ],
      "metadata": {
        "id": "sTLs85hiNV_b"
      }
    },
    {
      "cell_type": "code",
      "source": [
        "!hmmsearch --help"
      ],
      "metadata": {
        "id": "HxQRpVbvN_JP"
      },
      "execution_count": null,
      "outputs": []
    },
    {
      "cell_type": "code",
      "source": [
        "# Positive set 1\n",
        "!hmmsearch -Z 1 --domZ 1 --max --noali --tblout positive_set1_pred.match kunitz.hmm positive_set1.fasta\n",
        "\n",
        "# Positive set 2\n",
        "!hmmsearch -Z 1 --domZ 1 --max --noali --tblout positive_set2_pred.match kunitz.hmm positive_set2.fasta\n",
        "\n",
        "# Negative set 1\n",
        "!hmmsearch -Z 1 --domZ 1 --max --noali --tblout negative_set1_pred.match kunitz.hmm negative_set1.fasta\n",
        "\n",
        "# Negative set 2\n",
        "!hmmsearch -Z 1 --domZ 1 --max --noali --tblout negative_set2_pred.match kunitz.hmm negative_set2.fasta\n",
        "\n",
        "# Check output\n",
        "!cat positive_set1_pred.match"
      ],
      "metadata": {
        "id": "iNdM5xLsJJB4"
      },
      "execution_count": null,
      "outputs": []
    },
    {
      "cell_type": "code",
      "source": [
        "# Check number of sequences in output\n",
        "!grep -v \"#\"  positive_set1_pred.match |wc\n",
        "!grep -v \"#\"  positive_set2_pred.match |wc\n",
        "!grep -v \"#\"  negative_set1_pred.match |wc\n",
        "!grep -v \"#\"  negative_set2_pred.match |wc"
      ],
      "metadata": {
        "colab": {
          "base_uri": "https://localhost:8080/"
        },
        "id": "ox1Nqi6cw_uX",
        "outputId": "e30bfceb-1596-484b-f59b-164cd6fea8da"
      },
      "execution_count": null,
      "outputs": [
        {
          "output_type": "stream",
          "name": "stdout",
          "text": [
            "    168    3192   24528\n",
            "    168    3192   24528\n",
            " 129317 2457023 18880282\n",
            " 128731 2445889 18794726\n"
          ]
        }
      ]
    },
    {
      "cell_type": "markdown",
      "source": [
        "#### Classifying entries from the validation sets \n",
        "- positive hits are tagged as class 1\n",
        "- negative hits are tagged as class 0"
      ],
      "metadata": {
        "id": "w-f-6bO_Q9Br"
      }
    },
    {
      "cell_type": "code",
      "source": [
        "# Positive set 1\n",
        "!grep -v \"#\"  positive_set1_pred.match |awk '{print $1,$8,1}' >  positive_set1_eval.class\n",
        "\n",
        "# Positive set 2\n",
        "!grep -v \"#\"  positive_set2_pred.match |awk '{print $1,$8,1}' >  positive_set2_eval.class\n",
        "\n",
        "# Negative set 1\n",
        "!grep -v \"#\"  negative_set1_pred.match |awk '{print $1,$8,0}' >  negative_set1_eval.class\n",
        "\n",
        "# Negative set 2\n",
        "!grep -v \"#\"  negative_set2_pred.match |awk '{print $1,$8,0}' >  negative_set2_eval.class"
      ],
      "metadata": {
        "id": "AD7HJaUYMTXz"
      },
      "execution_count": null,
      "outputs": []
    },
    {
      "cell_type": "markdown",
      "source": [
        "#### To compute performance metrics with customized python script"
      ],
      "metadata": {
        "id": "xBGXYTe-Z_B-"
      }
    },
    {
      "cell_type": "markdown",
      "source": [
        "The program will take in input a file with three columns representing the following data\n",
        "\n",
        "1.   Protein ID\n",
        "2.   The lowest e-value associated to each protein\n",
        "3.   The class (0: NotBPTI/Kunitz 1: BPTI/Kunitz)"
      ],
      "metadata": {
        "id": "ocYhTsqhX_Ls"
      }
    },
    {
      "cell_type": "markdown",
      "source": [
        "##### Follows the cross-validation optimization procedure performed looping over a list of e-value thresholds with a logarithmic interval. \n",
        "It is performed here a 2-fold cross-validation test: thus splitting positives and negatives in 2 subsets, optimizing the classification threshold on one subset and testing the performance on the other subset."
      ],
      "metadata": {
        "id": "LIlDHwYkgy4D"
      }
    },
    {
      "cell_type": "code",
      "source": [
        "# Merge positive and negative sets\n",
        "!cat positive_set1_eval.class negative_set1_eval.class > set1_eval.class\n",
        "!cat positive_set2_eval.class negative_set2_eval.class > set2_eval.class"
      ],
      "metadata": {
        "id": "vDlG4jtJ0znd"
      },
      "execution_count": null,
      "outputs": []
    },
    {
      "cell_type": "code",
      "source": [
        "# SET 1 - select eval with highest MCC\n",
        "!for i in 1e-3 1e-4 1e-5 1e-6 1e-7 1e-8 1e-9 1e-10; do python classification_metrics.py set1_eval.class $i ; done\n",
        "\n",
        "# Output performance table\n",
        "!for i in 1e-3 1e-4 1e-5 1e-6 1e-7 1e-8 1e-9 1e-10; do python classification_metrics.py set1_eval.class $i ; done > optimization_table_1.txt"
      ],
      "metadata": {
        "id": "KBqs7hEVaJOD",
        "colab": {
          "base_uri": "https://localhost:8080/"
        },
        "outputId": "3f337e9a-1988-474a-af04-113acbbeaf29"
      },
      "execution_count": null,
      "outputs": [
        {
          "output_type": "stream",
          "name": "stdout",
          "text": [
            "TH: 0.001 Accuracy: 0.9994053365254663 MCC: 0.8275409826704369 TN: 129240.0 FN: 0.0 FP: 77.0 TP: 168.0\n",
            "TH: 0.0001 Accuracy: 0.9999073251727999 MCC: 0.9654647948127555 TN: 129305.0 FN: 0.0 FP: 12.0 TP: 168.0\n",
            "TH: 1e-05 Accuracy: 0.9999691083909333 MCC: 0.9876623271725565 TN: 129313.0 FN: 0.0 FP: 4.0 TP: 168.0\n",
            "TH: 1e-06 Accuracy: 0.9999768312932 MCC: 0.990546023905422 TN: 129314.0 FN: 0.0 FP: 3.0 TP: 168.0\n",
            "TH: 1e-07 Accuracy: 0.9999691083909333 MCC: 0.9875415572882695 TN: 129314.0 FN: 1.0 FP: 3.0 TP: 167.0\n",
            "TH: 1e-08 Accuracy: 0.9999768312932 MCC: 0.9904590193741222 TN: 129315.0 FN: 1.0 FP: 2.0 TP: 167.0\n",
            "TH: 1e-09 Accuracy: 0.9999691083909333 MCC: 0.987453825458062 TN: 129315.0 FN: 2.0 FP: 2.0 TP: 166.0\n",
            "TH: 1e-10 Accuracy: 0.9999613854886666 MCC: 0.9844394628687669 TN: 129315.0 FN: 3.0 FP: 2.0 TP: 165.0\n"
          ]
        }
      ]
    },
    {
      "cell_type": "code",
      "source": [
        "# SET 2 - select eval with highest MCC\n",
        "!for i in 1e-3 1e-4 1e-5 1e-6 1e-7 1e-8 1e-9 1e-10; do python classification_metrics.py set2_eval.class $i ; done\n",
        "\n",
        "# Output performance table\n",
        "!for i in 1e-3 1e-4 1e-5 1e-6 1e-7 1e-8 1e-9 1e-10; do python classification_metrics.py set2_eval.class $i ; done > optimization_table_2.txt"
      ],
      "metadata": {
        "colab": {
          "base_uri": "https://localhost:8080/"
        },
        "id": "61l5TPDyTjq0",
        "outputId": "73869685-6124-48ce-8e2c-43590fb7f3d0"
      },
      "execution_count": null,
      "outputs": [
        {
          "output_type": "stream",
          "name": "stdout",
          "text": [
            "TH: 0.001 Accuracy: 0.9994026330693023 MCC: 0.8275385359741207 TN: 128654.0 FN: 0.0 FP: 77.0 TP: 168.0\n",
            "TH: 0.0001 Accuracy: 0.9998836298186953 MCC: 0.9575156046987876 TN: 128716.0 FN: 0.0 FP: 15.0 TP: 168.0\n",
            "TH: 1e-05 Accuracy: 0.999968967951652 MCC: 0.9876594103650171 TN: 128727.0 FN: 0.0 FP: 4.0 TP: 168.0\n",
            "TH: 1e-06 Accuracy: 0.999968967951652 MCC: 0.9875386402131545 TN: 128728.0 FN: 1.0 FP: 3.0 TP: 167.0\n",
            "TH: 1e-07 Accuracy: 0.9999767259637391 MCC: 0.9904560939352903 TN: 128729.0 FN: 1.0 FP: 2.0 TP: 167.0\n",
            "TH: 1e-08 Accuracy: 0.9999767259637391 MCC: 0.9904560939352903 TN: 128729.0 FN: 1.0 FP: 2.0 TP: 167.0\n",
            "TH: 1e-09 Accuracy: 0.9999767259637391 MCC: 0.9904560939352903 TN: 128729.0 FN: 1.0 FP: 2.0 TP: 167.0\n",
            "TH: 1e-10 Accuracy: 0.9999767259637391 MCC: 0.9904560939352903 TN: 128729.0 FN: 1.0 FP: 2.0 TP: 167.0\n"
          ]
        }
      ]
    },
    {
      "cell_type": "markdown",
      "source": [
        "Given the following performance on set 1:\n",
        "- TH: 1e-08 Accuracy: 0.999977 MCC: 0.990456 \n",
        "- TN: 128729.0 FN: 1.0 FP: 2.0 TP: 167.0\n",
        "\n",
        "And the following performance on set 2:\n",
        "- TH: 1e-08 Accuracy: 0.999977 MCC: 0.990459\n",
        "- TN: 129315.0 FN: 1.0 FP: 2.0 TP: 167.0\n",
        "\n",
        "We can conclude that an e-value threshold of 1e-08 gives the most optimal performance. \n",
        "\n"
      ],
      "metadata": {
        "id": "7gANfuS4TnMc"
      }
    },
    {
      "cell_type": "markdown",
      "source": [
        "#### Compare the predicted positives and negatives with the annotated positives and negatives. \n",
        "\n",
        "Investigate the reason behind false positives and negatives. "
      ],
      "metadata": {
        "id": "pW4ubG9_Regt"
      }
    },
    {
      "cell_type": "code",
      "source": [
        "!python classification_metrics.py <(cat set1_eval.class set2_eval.class) 1e-8"
      ],
      "metadata": {
        "colab": {
          "base_uri": "https://localhost:8080/"
        },
        "id": "OYqxccQ1jzps",
        "outputId": "08efcb38-42d8-4bd8-c080-e07e0818c1f3"
      },
      "execution_count": null,
      "outputs": [
        {
          "output_type": "stream",
          "name": "stdout",
          "text": [
            "TH: 1e-08 Accuracy: 0.9999767787479101 MCC: 0.9904575599732265 TN: 258044.0 FN: 2.0 FP: 4.0 TP: 334.0\n"
          ]
        }
      ]
    },
    {
      "cell_type": "code",
      "source": [
        "# False negatives\n",
        "!awk '{if ($2 > 1e-08 && $3==1) print $1}' <(cat set1_eval.class set2_eval.class)"
      ],
      "metadata": {
        "colab": {
          "base_uri": "https://localhost:8080/"
        },
        "id": "B0ASnPSNoMQE",
        "outputId": "d93de885-7120-4120-d99c-38202fab7281"
      },
      "execution_count": null,
      "outputs": [
        {
          "output_type": "stream",
          "name": "stdout",
          "text": [
            "O62247\n",
            "D3GGZ8\n"
          ]
        }
      ]
    },
    {
      "cell_type": "code",
      "source": [
        "# False positives\n",
        "!awk '{if ($2 < 1e-08 && $3==0) print $1}' <(cat set1_eval.class set2_eval.class)"
      ],
      "metadata": {
        "colab": {
          "base_uri": "https://localhost:8080/"
        },
        "id": "_T5zwoCDthSX",
        "outputId": "f1906126-d9b1-4d89-b5f6-74eafb2fec0e"
      },
      "execution_count": null,
      "outputs": [
        {
          "output_type": "stream",
          "name": "stdout",
          "text": [
            "P0DV05\n",
            "P0DV03\n",
            "P0DV04\n",
            "P0DV06\n"
          ]
        }
      ]
    },
    {
      "cell_type": "markdown",
      "source": [
        "#### Brief discussion on false results"
      ],
      "metadata": {
        "id": "gGeMnoIfuLYG"
      }
    },
    {
      "cell_type": "markdown",
      "source": [
        "O62247, D3GGZ8 are predicted as negatives, but not annotated as such: the annotation of D3GGZ8 is dependent on the other false negative, O62247, used as a seed for it. O62247 is annotated as positive since it appears to have serine protease activity in vitro, but it is uncertain if this activity is genuine, as bli-5 lacks all the catalytic features of serine proteases. It can be considered a borderline case, until further investigation gives a clearer profile to this protein.\n",
        "For a more detail discussion, you're invited to check (1).\n",
        "\n",
        "\n",
        "P0DV05, P0DV03, P0DV04, P0DV06 are all isoforms of the same protein, whose sequence actually contains a Kunitz domain as per PROSITE annotation (PRU00031), so it is rightfully predicted as positive. It is not classified as such because the relative UniprotKB entry does not present the PFAM identifier PF00014, used for the construction of the datasets.\n",
        "For a more detail discussion, you're invited to check (2).\n",
        "\n",
        "Despite the false results, the performance with a threshold equal to 1e-08 remains valuable, with a Matthew Correlation Coefficient of 0.990457, and an accuracy of 0.999976."
      ],
      "metadata": {
        "id": "iwA3QGCEQJiz"
      }
    },
    {
      "cell_type": "markdown",
      "source": [
        "Related references:\n",
        "1. Stepek G, McCormack G, Page AP. The kunitz domain protein BLI-5 plays a functionally conserved role in cuticle formation in a diverse range of nematodes. Mol Biochem Parasitol. 2010 Jan;169(1):1-11. doi: 10.1016/j.molbiopara.2009.08.005. Epub 2009 Aug 27. PMID: 19716386.\n",
        "2. Sintsova, O.V., Pislyagin, E.A., Gladkikh, I.N. et al. Kunitz-type peptides of the sea anemone Heteractis crispa: Potential anti-inflammatory compounds. Russ J Bioorg Chem 43, 91–97 (2017). doi: 10.1134/S1068162016060121"
      ],
      "metadata": {
        "id": "mVUDLCRPy5pw"
      }
    }
  ]
}